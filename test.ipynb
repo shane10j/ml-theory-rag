{
 "cells": [
  {
   "cell_type": "code",
   "execution_count": 5,
   "id": "d16608fc",
   "metadata": {},
   "outputs": [],
   "source": [
    "from reader.reader import *\n",
    "from data.load_data import *\n",
    "from data.create_embeddings import *\n",
    "from retriever.retriever import *"
   ]
  },
  {
   "cell_type": "code",
   "execution_count": 3,
   "id": "61060e46",
   "metadata": {},
   "outputs": [
    {
     "name": "stderr",
     "output_type": "stream",
     "text": [
      "[nltk_data] Downloading package gutenberg to\n",
      "[nltk_data]     /Users/shanejayasundera/nltk_data...\n",
      "[nltk_data]   Package gutenberg is already up-to-date!\n"
     ]
    },
    {
     "name": "stdout",
     "output_type": "stream",
     "text": [
      "5\n",
      "8540\n"
     ]
    },
    {
     "data": {
      "application/vnd.jupyter.widget-view+json": {
       "model_id": "5d56d1300a8b4fbc99b7971a2a652889",
       "version_major": 2,
       "version_minor": 0
      },
      "text/plain": [
       "Batches:   0%|          | 0/8540 [00:00<?, ?it/s]"
      ]
     },
     "metadata": {},
     "output_type": "display_data"
    },
    {
     "name": "stdout",
     "output_type": "stream",
     "text": [
      "8540\n"
     ]
    }
   ],
   "source": [
    "files, texts = load_gutenberg_data()\n",
    "tokenized = tokenize(texts)\n",
    "print(len(tokenized[0]))\n",
    "chunked = chunk(tokenized, 300, 50)\n",
    "print(len(chunked))\n",
    "\n",
    "embeddings = embed(chunked)\n",
    "print(len(embeddings))\n",
    "vector_index = create_vector_index(embeddings)\n",
    "\n"
   ]
  },
  {
   "cell_type": "code",
   "execution_count": 6,
   "id": "eb347312",
   "metadata": {},
   "outputs": [
    {
     "data": {
      "application/vnd.jupyter.widget-view+json": {
       "model_id": "862223bb11f54d9880a3faf0eb23e825",
       "version_major": 2,
       "version_minor": 0
      },
      "text/plain": [
       "Batches:   0%|          | 0/1 [00:00<?, ?it/s]"
      ]
     },
     "metadata": {},
     "output_type": "display_data"
    },
    {
     "name": "stdout",
     "output_type": "stream",
     "text": [
      "Use the following chunks to answer the question: What is the meaning of life?\n",
      "Prairie Dame that sittest in the middle and lookest out upon thy world, and lookest East and lookest West, Dispensatress, that by a word givest a thousand miles, a million farms, and missest nothing, Thou all-acceptress--thou hospitable, (thou only art hospitable as God is hospitable.) 4 When late I sang sad was my voice, Sad were the shows around me with deafening noises of hatred and smoke of war; In the midst of the conflict, the heroes, I stood, Or pass'd with slow step through the wounded and dying. But now I sing not war, Nor the measur'd march of soldiers, nor the tents of camps, Nor the regiments hastily coming up deploying in line of battle; No more the sad, unnatural shows of war. Ask'd room those flush'd immortal ranks, the first forth-stepping armies? Ask room alas the ghastly ranks, the armies dread that follow'd. (Pass, pass, ye proud brigades, with your tramping sinewy legs, With your shoulders young and strong, with your knapsacks and your muskets; How elate I stood and watch'd you, where starting off you march'd. Pass--then rattle drums again, For an army heaves in sight, O another gathering army, Swarming, trailing on the rear, O you dread accruing army, O you regiments so piteous, with your mortal diarrhoea, with your fever, O my land's maim'd darlings, with the plenteous bloody bandage and the crutch, Lo, your pallid army follows.) 5 But on these days of brightness, On the far-stretching beauteous landscape, the roads and lanes the high-piled farm-wagons, and the fruits and barns, Should the dead intrude? Ah the dead to me mar not, they fit well in Nature, They fit very well in the landscape under the trees and grass, And along the edge of the sky in the horizon's far margin. Nor do\n",
      "lighted on the bame Across on top the room; \"Aha!\" says she, \"ye don't have me; Ye may as well go home.\" \"Aha!\" says Fox, \"we'll see; I'll bring yees down from that.\" So out he marched upon the floor Right under where she sat. An' thin he whiruled around, An' round an' round an' round, Fashter an' fashter an' fashter, Afther his tail on the ground. Until the small Rid Hin She got so dizzy, shure, Wid lookin' at the Fox's tail, She jist dropped on the floor. An' Fox he whipped her up, An' pit her in his bag, An' off he started all alone, Him and his little dag. All day he tracked the wood Up hill an' down again; An' wid him, shmotherin' in the bag, The little small Rid Hin. Sorra a know she knowed Awhere she was that day; Says she, \"I'm biled an' ate up, shure An' what'll be to pay?\" Thin she betho't hersel', An' tuk her schissors out, An' shnipped a big hole in the bag, So she could look about. An' 'fore ould Fox could think She lept right out--she did, An' thin picked up a great big shtone, An' popped it in instid. An' thin she rins off home, Her outside door she locks; Thinks she, \"You see you don't have me, You crafty, shly ould Fox.\" An' Fox he tugged away Wid the great big hivy shtone, Thimpin' his shoulders very bad As he wint in alone. An' whin he came in sight O' his great din o' rocks, Jist watchin' for him at the door He shpied ould mither Fox. \"Have ye the pot a-bilin'?\" Says he to ould Fox thin; \"Shure an' it is, me child,\" says she; \"Have ye the small Rid Hin?\" \"Yes, jist\n",
      "me, haue you not? Reynol. My Lord I haue Polon. God buy you; fare you well Reynol. Good my Lord Polon. Obserue his inclination in your selfe Reynol. I shall my Lord Polon. And let him plye his Musicke Reynol. Well, my Lord. Enter. Enter Ophelia. Polon. Farewell: How now Ophelia, what's the matter? Ophe. Alas my Lord, I haue beene so affrighted Polon. With what, in the name of Heauen? Ophe. My Lord, as I was sowing in my Chamber, Lord Hamlet with his doublet all vnbrac'd, No hat vpon his head, his stockings foul'd, Vngartred, and downe giued to his Anckle, Pale as his shirt, his knees knocking each other, And with a looke so pitious in purport, As if he had been loosed out of hell, To speake of horrors: he comes before me Polon. Mad for thy Loue? Ophe. My Lord, I doe not know: but truly I do feare it Polon. What said he? Ophe. He tooke me by the wrist, and held me hard; Then goes he to the length of all his arme; And with his other hand thus o're his brow, He fals to such perusall of my face, As he would draw it. Long staid he so, At last, a little shaking of mine Arme: And thrice his head thus wauing vp and downe; He rais'd a sigh, so pittious and profound, That it did seeme to shatter all his bulke, And end his being. That done, he lets me goe, And with his head ouer his shoulders turn'd, He seem'd to finde his way without his eyes, For out adores he went without their helpe; And to the last, bended their light on me Polon. Goe with me, I will goe seeke the King, This is the very extasie of\n",
      "\n"
     ]
    },
    {
     "name": "stderr",
     "output_type": "stream",
     "text": [
      "/Users/shanejayasundera/ml-theory-rag/.venv/lib/python3.11/site-packages/torch/nn/modules/module.py:1762: FutureWarning: `encoder_attention_mask` is deprecated and will be removed in version 4.55.0 for `BertSdpaSelfAttention.forward`.\n",
      "  return forward_call(*args, **kwargs)\n"
     ]
    }
   ],
   "source": [
    "query = \"What is the meaning of life?\"\n",
    "retrieved_chunks = query_vector_index(vector_index, query, 3, chunked)\n",
    "prompt = construct_prompt(query, retrieved_chunks)\n",
    "print(prompt)\n"
   ]
  }
 ],
 "metadata": {
  "kernelspec": {
   "display_name": ".venv",
   "language": "python",
   "name": "python3"
  },
  "language_info": {
   "codemirror_mode": {
    "name": "ipython",
    "version": 3
   },
   "file_extension": ".py",
   "mimetype": "text/x-python",
   "name": "python",
   "nbconvert_exporter": "python",
   "pygments_lexer": "ipython3",
   "version": "3.11.5"
  }
 },
 "nbformat": 4,
 "nbformat_minor": 5
}
